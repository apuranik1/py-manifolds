{
 "cells": [
  {
   "cell_type": "code",
   "execution_count": 1,
   "id": "multiple-toyota",
   "metadata": {},
   "outputs": [],
   "source": [
    "import os\n",
    "import sys\n",
    "\n",
    "sys.path.append(os.path.join(os.getcwd(), \"..\"))"
   ]
  },
  {
   "cell_type": "code",
   "execution_count": 2,
   "id": "national-kinase",
   "metadata": {},
   "outputs": [],
   "source": [
    "import time\n",
    "\n",
    "import jax\n",
    "import jax.numpy as jnp\n",
    "import matplotlib.pyplot as plt\n",
    "import numpy as np\n",
    "\n",
    "import manifolds.schwarzschild as sc\n",
    "from manifolds.geodesic import explicit_step, midpoint_step, make_exp_map_step\n",
    "from manifolds.manifold import ChartPoint, Cotangent, ContravariantTensor, CovariantTensor, Tangent, Tensor\n",
    "from manifolds.riemannian import levi_civita"
   ]
  },
  {
   "cell_type": "code",
   "execution_count": 3,
   "id": "excellent-quarter",
   "metadata": {},
   "outputs": [],
   "source": [
    "%matplotlib widget"
   ]
  },
  {
   "cell_type": "code",
   "execution_count": 4,
   "id": "deluxe-secretary",
   "metadata": {},
   "outputs": [],
   "source": [
    "spacetime = sc.SchwarzschildSpacetime(2.)"
   ]
  },
  {
   "cell_type": "code",
   "execution_count": 5,
   "id": "transparent-boxing",
   "metadata": {},
   "outputs": [],
   "source": [
    "exp_map_step = make_exp_map_step(lambda cp: levi_civita(spacetime, cp), midpoint_step, sc.SchwarzschildChart)"
   ]
  },
  {
   "cell_type": "code",
   "execution_count": 6,
   "id": "southwest-curve",
   "metadata": {},
   "outputs": [
    {
     "name": "stderr",
     "output_type": "stream",
     "text": [
      "WARNING:absl:No GPU/TPU found, falling back to CPU. (Set TF_CPP_MIN_LOG_LEVEL=0 and rerun for more info.)\n"
     ]
    },
    {
     "data": {
      "text/plain": [
       "PseudoMetric(point=ChartPoint(coords=DeviceArray([ 0., 20.,  0.,  0.], dtype=float32), chart=<manifolds.schwarzschild.SchwarzschildChart object at 0x7fd5f6fea3d0>), t_coords=DeviceArray([[-0.9      ,  0.       ,  0.       ,  0.       ],\n",
       "             [ 0.       ,  1.1111112,  0.       ,  0.       ],\n",
       "             [ 0.       ,  0.       ,  1.       ,  0.       ],\n",
       "             [ 0.       ,  0.       ,  0.       ,  1.       ]],            dtype=float32), n_contra=2)"
      ]
     },
     "execution_count": 6,
     "metadata": {},
     "output_type": "execute_result"
    }
   ],
   "source": [
    "p = sc.SchwarzschildPoint(jnp.array([0., 20., 0., 0.]))\n",
    "spacetime.metric(p)"
   ]
  },
  {
   "cell_type": "code",
   "execution_count": 7,
   "id": "renewable-harrison",
   "metadata": {},
   "outputs": [
    {
     "name": "stdout",
     "output_type": "stream",
     "text": [
      "[1052.094      -10.064652     3.7194593    5.5791197] [ 1.0719724  -0.07105277 -0.17245746 -0.2586842 ]\n"
     ]
    }
   ],
   "source": [
    "x_coords = jnp.array([0., 20., 0., 0.])  # object at 10x Schwarzschild radius in x direction\n",
    "v_coords = jnp.array([1., 0., 0.1, 0.15])\n",
    "chart_coords = spacetime.preferred_chart(sc.SchwarzschildPoint(x_coords)).to_array()\n",
    "dt = jnp.array(0.05)\n",
    "\n",
    "history = []\n",
    "for outer in range(200):\n",
    "    for inner in range(100):\n",
    "        x_coords, v_coords = exp_map_step(x_coords, v_coords, chart_coords, dt)\n",
    "    history.append(x_coords.tolist())\n",
    "\n",
    "print(x_coords, v_coords)"
   ]
  },
  {
   "cell_type": "code",
   "execution_count": 8,
   "id": "relative-matter",
   "metadata": {},
   "outputs": [
    {
     "data": {
      "application/vnd.jupyter.widget-view+json": {
       "model_id": "1f8616af84674570bd6e80a9d288d867",
       "version_major": 2,
       "version_minor": 0
      },
      "text/plain": [
       "Canvas(toolbar=Toolbar(toolitems=[('Home', 'Reset original view', 'home', 'home'), ('Back', 'Back to previous …"
      ]
     },
     "metadata": {},
     "output_type": "display_data"
    },
    {
     "data": {
      "text/plain": [
       "(-25.0, 25.0)"
      ]
     },
     "execution_count": 8,
     "metadata": {},
     "output_type": "execute_result"
    }
   ],
   "source": [
    "coord_range = [-25, 25]\n",
    "\n",
    "fig = plt.figure(figsize=(8,8))\n",
    "ax2 = fig.add_subplot(1, 1, 1, projection=\"3d\")\n",
    "hist_embedded = np.array([sc.SchwarzschildChart(2.).coords_to_point(jnp.array(x)).coords for x in history])\n",
    "plot = ax2.scatter(hist_embedded[:, 1], hist_embedded[:, 2], hist_embedded[:, 3], c=hist_embedded[:, 0], cmap=\"magma\")\n",
    "fig.colorbar(plot)\n",
    "ax2.set_xlim(coord_range)\n",
    "ax2.set_ylim(coord_range)\n",
    "ax2.set_zlim(coord_range)"
   ]
  },
  {
   "cell_type": "code",
   "execution_count": null,
   "id": "written-receptor",
   "metadata": {},
   "outputs": [],
   "source": []
  }
 ],
 "metadata": {
  "kernelspec": {
   "display_name": "Conda (manifold)",
   "language": "python",
   "name": "conda-manifold"
  },
  "language_info": {
   "codemirror_mode": {
    "name": "ipython",
    "version": 3
   },
   "file_extension": ".py",
   "mimetype": "text/x-python",
   "name": "python",
   "nbconvert_exporter": "python",
   "pygments_lexer": "ipython3",
   "version": "3.9.2"
  }
 },
 "nbformat": 4,
 "nbformat_minor": 5
}
