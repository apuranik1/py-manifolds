{
 "cells": [
  {
   "cell_type": "code",
   "execution_count": 1,
   "metadata": {},
   "outputs": [],
   "source": [
    "import sys\n",
    "sys.path.append(\"/home/alok/Programming/py-manifolds\")"
   ]
  },
  {
   "cell_type": "code",
   "execution_count": 2,
   "metadata": {},
   "outputs": [],
   "source": [
    "import math\n",
    "\n",
    "import jax\n",
    "import numpy as np\n",
    "\n",
    "from manifolds.manifold import Tensor, Tangent, Cotangent\n",
    "from manifolds.sphere import Sphere, StereographicChart, SpherePoint"
   ]
  },
  {
   "cell_type": "code",
   "execution_count": 3,
   "metadata": {},
   "outputs": [],
   "source": [
    "sphere = Sphere(5)"
   ]
  },
  {
   "cell_type": "code",
   "execution_count": 4,
   "metadata": {},
   "outputs": [],
   "source": [
    "northpole = SpherePoint(np.array([0., 0., 5.]))\n",
    "southpole = SpherePoint(np.array([0., 0., -5.]))"
   ]
  },
  {
   "cell_type": "code",
   "execution_count": 5,
   "metadata": {},
   "outputs": [],
   "source": [
    "south_projection = sphere.preferred_chart(northpole)\n",
    "north_projection = sphere.preferred_chart(southpole)"
   ]
  },
  {
   "cell_type": "code",
   "execution_count": 6,
   "metadata": {},
   "outputs": [
    {
     "name": "stderr",
     "output_type": "stream",
     "text": [
      "WARNING:absl:No GPU/TPU found, falling back to CPU. (Set TF_CPP_MIN_LOG_LEVEL=0 and rerun for more info.)\n"
     ]
    },
    {
     "name": "stdout",
     "output_type": "stream",
     "text": [
      "[0.         1.66666667]\n",
      "[ 0. 15.]\n",
      "[0. 3. 4.]\n"
     ]
    }
   ],
   "source": [
    "northern_hemi_point = SpherePoint(np.array([0., 3., 4.]))\n",
    "print(south_projection.point_to_coords(northern_hemi_point))\n",
    "print(north_projection.point_to_coords(northern_hemi_point))\n",
    "print(\n",
    "    south_projection.coords_to_point(\n",
    "        south_projection.point_to_coords(northern_hemi_point)\n",
    "    ).coords\n",
    ")"
   ]
  },
  {
   "cell_type": "code",
   "execution_count": 7,
   "metadata": {},
   "outputs": [],
   "source": [
    "def south_to_north(c):\n",
    "    return north_projection.point_to_coords(south_projection.coords_to_point(c))"
   ]
  },
  {
   "cell_type": "code",
   "execution_count": 8,
   "metadata": {},
   "outputs": [],
   "source": [
    "jacobian = jax.jacfwd(south_to_north)"
   ]
  },
  {
   "cell_type": "code",
   "execution_count": 9,
   "metadata": {},
   "outputs": [
    {
     "data": {
      "text/plain": [
       "DeviceArray([ 8.999998, -8.999992], dtype=float32)"
      ]
     },
     "execution_count": 9,
     "metadata": {},
     "output_type": "execute_result"
    }
   ],
   "source": [
    "jacobian(south_projection.point_to_coords(northern_hemi_point)) @ np.array([1, 1])"
   ]
  },
  {
   "cell_type": "code",
   "execution_count": 10,
   "metadata": {},
   "outputs": [
    {
     "data": {
      "text/plain": [
       "8.999820003599927"
      ]
     },
     "execution_count": 10,
     "metadata": {},
     "output_type": "execute_result"
    }
   ],
   "source": [
    "15 / 1.6667"
   ]
  },
  {
   "cell_type": "code",
   "execution_count": 11,
   "metadata": {},
   "outputs": [],
   "source": [
    "pt, tangent = jax.jvp(south_to_north, [south_projection.point_to_coords(northern_hemi_point)], [np.array([1., 1.])])"
   ]
  },
  {
   "cell_type": "code",
   "execution_count": 12,
   "metadata": {},
   "outputs": [
    {
     "data": {
      "text/plain": [
       "DeviceArray([ 8.999998, -8.999992], dtype=float32)"
      ]
     },
     "execution_count": 12,
     "metadata": {},
     "output_type": "execute_result"
    }
   ],
   "source": [
    "tangent"
   ]
  },
  {
   "cell_type": "code",
   "execution_count": 13,
   "metadata": {},
   "outputs": [
    {
     "name": "stdout",
     "output_type": "stream",
     "text": [
      "Tangent(chart=<manifolds.sphere.StereographicChart object at 0x7fa875e1bb20>, p_coords=DeviceArray([ 0.      , 14.999995], dtype=float32), v_coords=DeviceArray([ 8.999998, -8.999992], dtype=float32))\n"
     ]
    }
   ],
   "source": [
    "t = Tangent(south_projection, south_projection.point_to_coords(northern_hemi_point), np.array([1., 1.]))\n",
    "print(t.to_chart(north_projection))"
   ]
  },
  {
   "cell_type": "code",
   "execution_count": 14,
   "metadata": {},
   "outputs": [
    {
     "name": "stdout",
     "output_type": "stream",
     "text": [
      "Cotangent(chart=<manifolds.sphere.StereographicChart object at 0x7fa875e1bb20>, p_coords=DeviceArray([ 0.      , 15.000001], dtype=float32), v_coords=(DeviceArray([ 0.11111111, -0.1111111 ], dtype=float32),))\n"
     ]
    }
   ],
   "source": [
    "ct = Cotangent(south_projection, south_projection.point_to_coords(northern_hemi_point), np.array([1., 1.]))\n",
    "print(ct.to_chart(north_projection))"
   ]
  },
  {
   "cell_type": "code",
   "execution_count": 15,
   "metadata": {},
   "outputs": [
    {
     "name": "stdout",
     "output_type": "stream",
     "text": [
      "Tensor(chart=<manifolds.sphere.StereographicChart object at 0x7fa875e1bb20>, p_coords=DeviceArray([ 0.      , 15.000001], dtype=float32), t_coords=DeviceArray([  8.999998, -17.999985], dtype=float32), n_contra=0)\n"
     ]
    }
   ],
   "source": [
    "t_tensor = Tensor(south_projection, south_projection.point_to_coords(northern_hemi_point), np.array([1., 2.]), n_contra=0)\n",
    "print(t_tensor.to_chart(north_projection))"
   ]
  },
  {
   "cell_type": "code",
   "execution_count": 16,
   "metadata": {},
   "outputs": [
    {
     "name": "stdout",
     "output_type": "stream",
     "text": [
      "Tensor(chart=<manifolds.sphere.StereographicChart object at 0x7fa875e1bb20>, p_coords=DeviceArray([ 0.      , 15.000001], dtype=float32), t_coords=DeviceArray([ 0.3333333 , -0.11111104], dtype=float32), n_contra=1)\n"
     ]
    }
   ],
   "source": [
    "ct_tensor = Tensor(south_projection, south_projection.point_to_coords(northern_hemi_point), np.array([3., 1.]), n_contra=1)\n",
    "print(ct_tensor.to_chart(north_projection))"
   ]
  },
  {
   "cell_type": "code",
   "execution_count": 17,
   "metadata": {},
   "outputs": [
    {
     "data": {
      "text/plain": [
       "Tensor(chart=<manifolds.sphere.StereographicChart object at 0x7fa875e1bb20>, p_coords=DeviceArray([ 0.      , 15.000001], dtype=float32), t_coords=DeviceArray([[ 2.9999993, -5.9999948],\n",
       "             [-0.9999991,  1.999997 ]], dtype=float32), n_contra=1)"
      ]
     },
     "execution_count": 17,
     "metadata": {},
     "output_type": "execute_result"
    }
   ],
   "source": [
    "t_tensor.tensorprod(ct_tensor).to_chart(north_projection)"
   ]
  },
  {
   "cell_type": "code",
   "execution_count": 18,
   "metadata": {
    "scrolled": false
   },
   "outputs": [
    {
     "data": {
      "text/plain": [
       "Tensor(chart=<manifolds.sphere.StereographicChart object at 0x7fa875e1bb20>, p_coords=DeviceArray([ 0.      , 15.000001], dtype=float32), t_coords=DeviceArray([[ 2.9999993, -5.9999948],\n",
       "             [-0.9999991,  1.999997 ]], dtype=float32), n_contra=1)"
      ]
     },
     "execution_count": 18,
     "metadata": {},
     "output_type": "execute_result"
    }
   ],
   "source": [
    "t_tensor.to_chart(north_projection).tensorprod(ct_tensor.to_chart(north_projection))"
   ]
  },
  {
   "cell_type": "code",
   "execution_count": null,
   "metadata": {},
   "outputs": [],
   "source": []
  }
 ],
 "metadata": {
  "kernelspec": {
   "display_name": "Conda (manifold)",
   "language": "python",
   "name": "conda-manifold"
  },
  "language_info": {
   "codemirror_mode": {
    "name": "ipython",
    "version": 3
   },
   "file_extension": ".py",
   "mimetype": "text/x-python",
   "name": "python",
   "nbconvert_exporter": "python",
   "pygments_lexer": "ipython3",
   "version": "3.9.2"
  }
 },
 "nbformat": 4,
 "nbformat_minor": 4
}
