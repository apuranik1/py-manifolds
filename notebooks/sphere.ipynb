{
 "cells": [
  {
   "cell_type": "markdown",
   "metadata": {},
   "source": [
    "# Operations on the _n_-Sphere"
   ]
  },
  {
   "cell_type": "code",
   "execution_count": 3,
   "metadata": {
    "tags": []
   },
   "outputs": [],
   "source": [
    "import sys\n",
    "sys.path.append(\"/home/alok/projects/py-manifolds\")"
   ]
  },
  {
   "cell_type": "code",
   "execution_count": 4,
   "metadata": {
    "tags": []
   },
   "outputs": [],
   "source": [
    "import math\n",
    "\n",
    "import jax.numpy as jnp\n",
    "import numpy as np\n",
    "\n",
    "from manifolds.manifold import ChartPoint, Cotangent, ContravariantTensor, CovariantTensor, Tangent, Tensor\n",
    "from manifolds.euclidean import EuclideanPoint, IdChart, EuclideanSpace\n",
    "from manifolds.sphere import Sphere, StereographicChart, SpherePoint"
   ]
  },
  {
   "cell_type": "code",
   "execution_count": 5,
   "metadata": {
    "tags": []
   },
   "outputs": [
    {
     "name": "stderr",
     "output_type": "stream",
     "text": [
      "An NVIDIA GPU may be present on this machine, but a CUDA-enabled jaxlib is not installed. Falling back to cpu.\n"
     ]
    }
   ],
   "source": [
    "sphere = Sphere(5)  # oddly, don't need to specify a dimension here"
   ]
  },
  {
   "cell_type": "code",
   "execution_count": 6,
   "metadata": {
    "tags": []
   },
   "outputs": [],
   "source": [
    "northpole = SpherePoint(np.array([0., 0., 5.]))\n",
    "southpole = SpherePoint(np.array([0., 0., -5.]))"
   ]
  },
  {
   "cell_type": "code",
   "execution_count": 7,
   "metadata": {
    "tags": []
   },
   "outputs": [],
   "source": [
    "south_projection = sphere.preferred_chart(northpole)\n",
    "north_projection = sphere.preferred_chart(southpole)"
   ]
  },
  {
   "cell_type": "code",
   "execution_count": 8,
   "metadata": {
    "tags": []
   },
   "outputs": [
    {
     "name": "stdout",
     "output_type": "stream",
     "text": [
      "[0.        1.6666667]\n",
      "[ 0.       15.000001]\n",
      "[0.        3.        3.9999998]\n"
     ]
    }
   ],
   "source": [
    "northern_hemi_point = SpherePoint(np.array([0., 3., 4.]))\n",
    "print(south_projection.point_to_coords(northern_hemi_point))\n",
    "print(north_projection.point_to_coords(northern_hemi_point))\n",
    "print(\n",
    "    south_projection.coords_to_point(\n",
    "        south_projection.point_to_coords(northern_hemi_point)\n",
    "    ).coords\n",
    ")"
   ]
  },
  {
   "cell_type": "code",
   "execution_count": 9,
   "metadata": {
    "tags": []
   },
   "outputs": [
    {
     "name": "stdout",
     "output_type": "stream",
     "text": [
      "Tangent(point=ChartPoint(coords=Array([ 0.      , 14.999996], dtype=float32), chart=StereographicChart(5.0)), v_coords=Array([ 8.999998, -8.999994], dtype=float32))\n"
     ]
    }
   ],
   "source": [
    "t = Tangent(ChartPoint.of_point(northern_hemi_point, south_projection), np.array([1., 1.]))\n",
    "print(t.to_chart(north_projection))"
   ]
  },
  {
   "cell_type": "code",
   "execution_count": 10,
   "metadata": {
    "tags": []
   },
   "outputs": [
    {
     "name": "stdout",
     "output_type": "stream",
     "text": [
      "Cotangent(point=ChartPoint(coords=Array([ 0.      , 14.999996], dtype=float32), chart=StereographicChart(5.0)), v_coords=Array([ 0.11111118, -0.11111112], dtype=float32))\n"
     ]
    }
   ],
   "source": [
    "ct = Cotangent(ChartPoint.of_point(northern_hemi_point, south_projection), np.array([1., 1.]))\n",
    "print(ct.to_chart(north_projection))"
   ]
  },
  {
   "cell_type": "code",
   "execution_count": 11,
   "metadata": {
    "tags": []
   },
   "outputs": [
    {
     "name": "stdout",
     "output_type": "stream",
     "text": [
      "Tensor(point=ChartPoint(coords=Array([ 0.      , 14.999996], dtype=float32), chart=StereographicChart(5.0)), t_coords=Array([  8.999998, -17.999989], dtype=float32), n_contra=0)\n"
     ]
    }
   ],
   "source": [
    "t_tensor = Tensor(ChartPoint.of_point(northern_hemi_point, south_projection), np.array([1., 2.]), n_contra=0)\n",
    "print(t_tensor.to_chart(north_projection))"
   ]
  },
  {
   "cell_type": "code",
   "execution_count": 12,
   "metadata": {
    "tags": []
   },
   "outputs": [
    {
     "name": "stdout",
     "output_type": "stream",
     "text": [
      "Tensor(point=ChartPoint(coords=Array([ 0.      , 14.999996], dtype=float32), chart=StereographicChart(5.0)), t_coords=Array([ 0.33333352, -0.11111112], dtype=float32), n_contra=1)\n"
     ]
    }
   ],
   "source": [
    "ct_tensor = Tensor(ChartPoint.of_point(northern_hemi_point, south_projection), np.array([3., 1.]), n_contra=1)\n",
    "print(ct_tensor.to_chart(north_projection))"
   ]
  },
  {
   "cell_type": "code",
   "execution_count": 13,
   "metadata": {
    "tags": []
   },
   "outputs": [
    {
     "data": {
      "text/plain": [
       "Tensor(point=ChartPoint(coords=Array([ 0.      , 14.999996], dtype=float32), chart=StereographicChart(5.0)), t_coords=Array([[ 3.000001 , -5.9999995],\n",
       "       [-0.9999999,  1.9999989]], dtype=float32), n_contra=1)"
      ]
     },
     "execution_count": 13,
     "metadata": {},
     "output_type": "execute_result"
    }
   ],
   "source": [
    "t_tensor.tensor_prod(ct_tensor).to_chart(north_projection)"
   ]
  },
  {
   "cell_type": "code",
   "execution_count": 14,
   "metadata": {
    "tags": []
   },
   "outputs": [
    {
     "data": {
      "text/plain": [
       "Tensor(point=ChartPoint(coords=Array([ 0.      , 14.999996], dtype=float32), chart=StereographicChart(5.0)), t_coords=Array([[ 3.000001 , -5.9999995],\n",
       "       [-0.9999999,  1.9999989]], dtype=float32), n_contra=1)"
      ]
     },
     "execution_count": 14,
     "metadata": {},
     "output_type": "execute_result"
    }
   ],
   "source": [
    "t_tensor.to_chart(north_projection).tensor_prod(ct_tensor.to_chart(north_projection))"
   ]
  },
  {
   "cell_type": "code",
   "execution_count": 15,
   "metadata": {
    "tags": []
   },
   "outputs": [
    {
     "data": {
      "text/plain": [
       "Tensor(point=ChartPoint(coords=Array([ 0.      , 14.999996], dtype=float32), chart=StereographicChart(5.0)), t_coords=Array([[  80.99997, -161.99986],\n",
       "       [-161.99986,  323.9996 ]], dtype=float32), n_contra=0)"
      ]
     },
     "execution_count": 15,
     "metadata": {},
     "output_type": "execute_result"
    }
   ],
   "source": [
    "t_tensor.to_chart(north_projection).tensor_prod(t_tensor.to_chart(north_projection))"
   ]
  },
  {
   "cell_type": "code",
   "execution_count": 16,
   "metadata": {
    "tags": []
   },
   "outputs": [
    {
     "data": {
      "text/plain": [
       "Tensor(point=ChartPoint(coords=Array([ 0.      , 14.999996], dtype=float32), chart=StereographicChart(5.0)), t_coords=Array([[  80.99997, -161.99986],\n",
       "       [-161.99986,  323.9996 ]], dtype=float32), n_contra=0)"
      ]
     },
     "execution_count": 16,
     "metadata": {},
     "output_type": "execute_result"
    }
   ],
   "source": [
    "t_tensor.tensor_prod(t_tensor).to_chart(north_projection)"
   ]
  },
  {
   "cell_type": "code",
   "execution_count": 17,
   "metadata": {
    "tags": []
   },
   "outputs": [
    {
     "name": "stdout",
     "output_type": "stream",
     "text": [
      "PseudoMetric(point=ChartPoint(coords=Array([0., 0.], dtype=float32), chart=StereographicChart(-5.0)), t_coords=Array([[4., 0.],\n",
      "       [0., 4.]], dtype=float32), n_contra=2)\n",
      "PseudoMetric(point=ChartPoint(coords=Array([0.       , 1.6666667], dtype=float32), chart=StereographicChart(-5.0)), t_coords=Array([[3.2399998, 0.       ],\n",
      "       [0.       , 3.24     ]], dtype=float32), n_contra=2)\n"
     ]
    }
   ],
   "source": [
    "# demonstrate that the stereographic projection is conformal at various points\n",
    "print(sphere.metric(northpole))\n",
    "print(sphere.metric_in_chart(ChartPoint.of_point(northern_hemi_point, south_projection)))"
   ]
  },
  {
   "cell_type": "code",
   "execution_count": null,
   "metadata": {},
   "outputs": [],
   "source": []
  }
 ],
 "metadata": {
  "kernelspec": {
   "display_name": "Python 3 (ipykernel)",
   "language": "python",
   "name": "python3"
  },
  "language_info": {
   "codemirror_mode": {
    "name": "ipython",
    "version": 3
   },
   "file_extension": ".py",
   "mimetype": "text/x-python",
   "name": "python",
   "nbconvert_exporter": "python",
   "pygments_lexer": "ipython3",
   "version": "3.11.4"
  }
 },
 "nbformat": 4,
 "nbformat_minor": 4
}
