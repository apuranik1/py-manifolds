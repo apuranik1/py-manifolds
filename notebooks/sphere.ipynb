{
 "cells": [
  {
   "cell_type": "markdown",
   "metadata": {},
   "source": [
    "# Operations on the _n_-Sphere"
   ]
  },
  {
   "cell_type": "code",
   "execution_count": 1,
   "metadata": {},
   "outputs": [],
   "source": [
    "import sys\n",
    "sys.path.append(\"/home/alok/Programming/py-manifolds\")"
   ]
  },
  {
   "cell_type": "code",
   "execution_count": 2,
   "metadata": {},
   "outputs": [],
   "source": [
    "import math\n",
    "\n",
    "import jax.numpy as jnp\n",
    "import numpy as np\n",
    "\n",
    "from manifolds.manifold import ChartPoint, Cotangent, ContravariantTensor, CovariantTensor, Tangent, Tensor\n",
    "from manifolds.euclidean import EuclideanPoint, IdChart, EuclideanSpace\n",
    "from manifolds.sphere import Sphere, StereographicChart, SpherePoint"
   ]
  },
  {
   "cell_type": "code",
   "execution_count": 3,
   "metadata": {},
   "outputs": [
    {
     "name": "stderr",
     "output_type": "stream",
     "text": [
      "WARNING:absl:No GPU/TPU found, falling back to CPU. (Set TF_CPP_MIN_LOG_LEVEL=0 and rerun for more info.)\n"
     ]
    }
   ],
   "source": [
    "sphere = Sphere(5)  # oddly, don't need to specify a dimension here"
   ]
  },
  {
   "cell_type": "code",
   "execution_count": 4,
   "metadata": {},
   "outputs": [],
   "source": [
    "northpole = SpherePoint(np.array([0., 0., 5.]))\n",
    "southpole = SpherePoint(np.array([0., 0., -5.]))"
   ]
  },
  {
   "cell_type": "code",
   "execution_count": 5,
   "metadata": {},
   "outputs": [],
   "source": [
    "south_projection = sphere.preferred_chart(northpole)\n",
    "north_projection = sphere.preferred_chart(southpole)"
   ]
  },
  {
   "cell_type": "code",
   "execution_count": 6,
   "metadata": {},
   "outputs": [
    {
     "name": "stdout",
     "output_type": "stream",
     "text": [
      "[0.        1.6666667]\n",
      "[ 0.       15.000001]\n",
      "[0.        3.        3.9999998]\n"
     ]
    }
   ],
   "source": [
    "northern_hemi_point = SpherePoint(np.array([0., 3., 4.]))\n",
    "print(south_projection.point_to_coords(northern_hemi_point))\n",
    "print(north_projection.point_to_coords(northern_hemi_point))\n",
    "print(\n",
    "    south_projection.coords_to_point(\n",
    "        south_projection.point_to_coords(northern_hemi_point)\n",
    "    ).coords\n",
    ")"
   ]
  },
  {
   "cell_type": "code",
   "execution_count": 7,
   "metadata": {},
   "outputs": [
    {
     "name": "stdout",
     "output_type": "stream",
     "text": [
      "Tangent(point=ChartPoint(coords=DeviceArray([ 0.      , 14.999996], dtype=float32), chart=StereographicChart(5.0)), v_coords=DeviceArray([ 8.999998, -8.999995], dtype=float32))\n"
     ]
    }
   ],
   "source": [
    "t = Tangent(ChartPoint.of_point(northern_hemi_point, south_projection), np.array([1., 1.]))\n",
    "print(t.to_chart(north_projection))"
   ]
  },
  {
   "cell_type": "code",
   "execution_count": 8,
   "metadata": {},
   "outputs": [
    {
     "name": "stdout",
     "output_type": "stream",
     "text": [
      "Cotangent(point=ChartPoint(coords=DeviceArray([ 0.      , 14.999996], dtype=float32), chart=StereographicChart(5.0)), v_coords=(DeviceArray([ 0.11111118, -0.11111112], dtype=float32),))\n"
     ]
    }
   ],
   "source": [
    "ct = Cotangent(ChartPoint.of_point(northern_hemi_point, south_projection), np.array([1., 1.]))\n",
    "print(ct.to_chart(north_projection))"
   ]
  },
  {
   "cell_type": "code",
   "execution_count": 9,
   "metadata": {},
   "outputs": [
    {
     "name": "stdout",
     "output_type": "stream",
     "text": [
      "Tensor(point=ChartPoint(coords=DeviceArray([ 0.      , 14.999996], dtype=float32), chart=StereographicChart(5.0)), t_coords=DeviceArray([  8.999998, -17.99999 ], dtype=float32), n_contra=0)\n"
     ]
    }
   ],
   "source": [
    "t_tensor = Tensor(ChartPoint.of_point(northern_hemi_point, south_projection), np.array([1., 2.]), n_contra=0)\n",
    "print(t_tensor.to_chart(north_projection))"
   ]
  },
  {
   "cell_type": "code",
   "execution_count": 10,
   "metadata": {},
   "outputs": [
    {
     "name": "stdout",
     "output_type": "stream",
     "text": [
      "Tensor(point=ChartPoint(coords=DeviceArray([ 0.      , 14.999996], dtype=float32), chart=StereographicChart(5.0)), t_coords=DeviceArray([ 0.33333352, -0.11111112], dtype=float32), n_contra=1)\n"
     ]
    }
   ],
   "source": [
    "ct_tensor = Tensor(ChartPoint.of_point(northern_hemi_point, south_projection), np.array([3., 1.]), n_contra=1)\n",
    "print(ct_tensor.to_chart(north_projection))"
   ]
  },
  {
   "cell_type": "code",
   "execution_count": 11,
   "metadata": {},
   "outputs": [
    {
     "data": {
      "text/plain": [
       "Tensor(point=ChartPoint(coords=DeviceArray([ 0.      , 14.999996], dtype=float32), chart=StereographicChart(5.0)), t_coords=DeviceArray([[ 3.000001 , -6.       ],\n",
       "             [-0.9999999,  1.999999 ]], dtype=float32), n_contra=1)"
      ]
     },
     "execution_count": 11,
     "metadata": {},
     "output_type": "execute_result"
    }
   ],
   "source": [
    "t_tensor.tensor_prod(ct_tensor).to_chart(north_projection)"
   ]
  },
  {
   "cell_type": "code",
   "execution_count": 12,
   "metadata": {
    "scrolled": false
   },
   "outputs": [
    {
     "data": {
      "text/plain": [
       "Tensor(point=ChartPoint(coords=DeviceArray([ 0.      , 14.999996], dtype=float32), chart=StereographicChart(5.0)), t_coords=DeviceArray([[ 3.000001 , -6.       ],\n",
       "             [-0.9999999,  1.999999 ]], dtype=float32), n_contra=1)"
      ]
     },
     "execution_count": 12,
     "metadata": {},
     "output_type": "execute_result"
    }
   ],
   "source": [
    "t_tensor.to_chart(north_projection).tensor_prod(ct_tensor.to_chart(north_projection))"
   ]
  },
  {
   "cell_type": "code",
   "execution_count": 13,
   "metadata": {},
   "outputs": [
    {
     "data": {
      "text/plain": [
       "Tensor(point=ChartPoint(coords=DeviceArray([ 0.      , 14.999996], dtype=float32), chart=StereographicChart(5.0)), t_coords=DeviceArray([[  80.99997, -161.99988],\n",
       "             [-161.99988,  323.99966]], dtype=float32), n_contra=0)"
      ]
     },
     "execution_count": 13,
     "metadata": {},
     "output_type": "execute_result"
    }
   ],
   "source": [
    "t_tensor.to_chart(north_projection).tensor_prod(t_tensor.to_chart(north_projection))"
   ]
  },
  {
   "cell_type": "code",
   "execution_count": 14,
   "metadata": {},
   "outputs": [
    {
     "data": {
      "text/plain": [
       "Tensor(point=ChartPoint(coords=DeviceArray([ 0.      , 14.999996], dtype=float32), chart=StereographicChart(5.0)), t_coords=DeviceArray([[  80.99997, -161.99988],\n",
       "             [-161.99988,  323.99966]], dtype=float32), n_contra=0)"
      ]
     },
     "execution_count": 14,
     "metadata": {},
     "output_type": "execute_result"
    }
   ],
   "source": [
    "t_tensor.tensor_prod(t_tensor).to_chart(north_projection)"
   ]
  },
  {
   "cell_type": "code",
   "execution_count": null,
   "metadata": {},
   "outputs": [],
   "source": [
    "def embed_euclidean(pt: SpherePoint):\n",
    "    return EuclideanPoint(pt.coords)\n",
    "\n",
    "def euclidean_metric(pt):\n",
    "    return ContravariantTensor(ChartPoint.of_point(pt, IdChart()), jnp.eye(pt.coords.shape[0]))\n",
    "\n",
    "north_pole_y = Tangent(ChartPoint.of_point(northpole, south_projection), np.array([0., 1.]))\n",
    "print(north_pole_y.as_tensor().pushforward(embed_euclidean, IdChart()))"
   ]
  },
  {
   "cell_type": "code",
   "execution_count": 16,
   "metadata": {},
   "outputs": [
    {
     "name": "stdout",
     "output_type": "stream",
     "text": [
      "CovariantTensor(point=ChartPoint(coords=DeviceArray([0., 0., 5.], dtype=float32), chart=<manifolds.euclidean.IdChart object at 0x7f2d8772dfa0>), t_coords=DeviceArray([0., 2., 0.], dtype=float32), n_contra=0)\n",
      "ContravariantTensor(point=ChartPoint(coords=DeviceArray([0., 0.], dtype=float32), chart=StereographicChart(-5.0)), t_coords=DeviceArray([[4., 0.],\n",
      "             [0., 4.]], dtype=float32), n_contra=2)\n",
      "ContravariantTensor(point=ChartPoint(coords=DeviceArray([0.       , 1.6666667], dtype=float32), chart=StereographicChart(-5.0)), t_coords=DeviceArray([[3.2399998, 0.       ],\n",
      "             [0.       , 3.2399998]], dtype=float32), n_contra=2)\n"
     ]
    }
   ],
   "source": [
    "# demonstrate that the metric\n",
    "metric = euclidean_metric(embed_euclidean(northpole))\n",
    "print(metric.pullback(embed_euclidean, ChartPoint.of_point(northpole, south_projection)))\n",
    "metric_other = euclidean_metric(embed_euclidean(northern_hemi_point))\n",
    "print(metric_other.pullback(embed_euclidean, ChartPoint.of_point(northern_hemi_point, south_projection)))"
   ]
  },
  {
   "cell_type": "code",
   "execution_count": null,
   "metadata": {},
   "outputs": [],
   "source": []
  }
 ],
 "metadata": {
  "kernelspec": {
   "display_name": "Conda (manifold)",
   "language": "python",
   "name": "conda-manifold"
  },
  "language_info": {
   "codemirror_mode": {
    "name": "ipython",
    "version": 3
   },
   "file_extension": ".py",
   "mimetype": "text/x-python",
   "name": "python",
   "nbconvert_exporter": "python",
   "pygments_lexer": "ipython3",
   "version": "3.9.2"
  }
 },
 "nbformat": 4,
 "nbformat_minor": 4
}
