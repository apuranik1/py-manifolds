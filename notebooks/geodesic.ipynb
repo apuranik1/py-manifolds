{
 "cells": [
  {
   "cell_type": "markdown",
   "metadata": {},
   "source": [
    "# Geodesic Solver"
   ]
  },
  {
   "cell_type": "code",
   "execution_count": 2,
   "metadata": {},
   "outputs": [],
   "source": [
    "import sys\n",
    "sys.path.append(\"/home/alok/Programming/py-manifolds\")"
   ]
  },
  {
   "cell_type": "code",
   "execution_count": 3,
   "metadata": {},
   "outputs": [],
   "source": [
    "import time\n",
    "\n",
    "import jax\n",
    "import jax.numpy as jnp\n",
    "import matplotlib.pyplot as plt\n",
    "import numpy as np\n",
    "\n",
    "from manifolds.geodesic import explicit_step, midpoint_step, make_exp_map_step\n",
    "from manifolds.manifold import ChartPoint, Cotangent, ContravariantTensor, CovariantTensor, Tangent, Tensor\n",
    "from manifolds.sphere import Sphere, StereographicChart, SpherePoint\n",
    "from manifolds.riemannian import levi_civita"
   ]
  },
  {
   "cell_type": "code",
   "execution_count": 4,
   "metadata": {},
   "outputs": [],
   "source": [
    "%matplotlib widget"
   ]
  },
  {
   "cell_type": "code",
   "execution_count": 5,
   "metadata": {},
   "outputs": [
    {
     "name": "stderr",
     "output_type": "stream",
     "text": [
      "WARNING:absl:No GPU/TPU found, falling back to CPU. (Set TF_CPP_MIN_LOG_LEVEL=0 and rerun for more info.)\n"
     ]
    }
   ],
   "source": [
    "sphere = Sphere(5.)"
   ]
  },
  {
   "cell_type": "markdown",
   "metadata": {},
   "source": [
    "The goal here is to implement the exponential map with a simple ODE solver.\n",
    "The exponential map is defined by a second-order linear ODE, which can be converted to a system of first-order ODEs with parameters x and v.\n",
    "\n",
    "$$\\dot x(t) = v(t)$$\n",
    "\n",
    "$$ \\dot v^k(t) = -v^i(t) v^j(t)\\Gamma^k_{ij}(x(t)) $$\n",
    "\n",
    "What does taking a step look like?\n",
    "\n",
    "- You are at some point $x_0$ with velocity $v_0$\n",
    "- If you are in explicit mode, then you adjust the coordinates of $x$ by $dt \\cdot v$, and you adjust the coordinates of $v$ by evaluating the Christoffel symbol product.\n",
    "- Explicit mode is equivalent to approximating x' and v' with forward differences in time.\n",
    "- If you are in implicit mode, then you approximate x' and v' with backward differences, and then you cry because you need to solve a nonlinear system involving a black box.\n",
    "- So I guess we're sticking to explicit mode."
   ]
  },
  {
   "cell_type": "code",
   "execution_count": 18,
   "metadata": {},
   "outputs": [],
   "source": [
    "def make_chart_reset(manifold, chart_cls):\n",
    "    @jax.jit\n",
    "    def to_preferred_chart(x_coords, v_coords, chart_array):\n",
    "        old_chart = chart_cls.of_array(chart_array)\n",
    "        old_x = ChartPoint(x_coords, old_chart)\n",
    "        old_v = Tangent(old_x, v_coords)\n",
    "        pt = old_x.to_point()\n",
    "        pref_chart = manifold.preferred_chart(pt)\n",
    "        new_x = ChartPoint.of_point(pt, pref_chart)\n",
    "        new_v = old_v.to_chart(pref_chart)\n",
    "        return new_x.coords, new_v.v_coords, pref_chart.to_array()\n",
    "    \n",
    "    return to_preferred_chart"
   ]
  },
  {
   "cell_type": "code",
   "execution_count": 35,
   "metadata": {},
   "outputs": [],
   "source": [
    "exp_map_step = make_exp_map_step(lambda cp: levi_civita(sphere, cp), midpoint_step, StereographicChart)\n",
    "reset_chart = make_chart_reset(sphere, StereographicChart)"
   ]
  },
  {
   "cell_type": "code",
   "execution_count": 36,
   "metadata": {},
   "outputs": [
    {
     "name": "stdout",
     "output_type": "stream",
     "text": [
      "Ran 10000 iterations in 0.603834867477417 seconds\n",
      "[0.01774037 5.000006  ] [-1.0425698   0.00370273]\n",
      "25.000378\n"
     ]
    }
   ],
   "source": [
    "signed_r = jnp.array(-5.)\n",
    "x_coords = jnp.array(3., 0.])\n",
    "v_coords = jnp.array([0., 1.])\n",
    "dt = jnp.array(0.01)\n",
    "\n",
    "\n",
    "history = []\n",
    "r_history = []\n",
    "outer_its = 100\n",
    "inner_its = 100\n",
    "\n",
    "_, _ = exp_map_step(x_coords, v_coords, signed_r, dt)  # trigger JIT\n",
    "_, _, _ = reset_chart(x_coords, v_coords, signed_r)  # likewise\n",
    "\n",
    "start_time = time.time()\n",
    "for i in range(outer_its):\n",
    "    for j in range(inner_its):\n",
    "        x_coords, v_coords = exp_map_step(x_coords, v_coords, signed_r, dt)\n",
    "    history.append(x_coords.tolist())\n",
    "    r_history.append(signed_r.tolist())\n",
    "    # resetting the chart is nice but it makes the plot uglier\n",
    "    # x_coords, v_coords, signed_r = reset_chart(x_coords, v_coords, signed_r)\n",
    "    \n",
    "end_time = time.time()\n",
    "print(f\"Ran {outer_its * inner_its} iterations in {end_time - start_time} seconds\")\n",
    "# for some reason, even after triggering JIT pre-benchmark, the first run is 2x slower than the second run\n",
    "print(x_coords, v_coords)\n",
    "print(x_coords @ x_coords)"
   ]
  },
  {
   "cell_type": "code",
   "execution_count": 37,
   "metadata": {
    "tags": []
   },
   "outputs": [
    {
     "data": {
      "application/vnd.jupyter.widget-view+json": {
       "model_id": "33600def460644adb8258037698dd225",
       "version_major": 2,
       "version_minor": 0
      },
      "text/plain": [
       "Canvas(toolbar=Toolbar(toolitems=[('Home', 'Reset original view', 'home', 'home'), ('Back', 'Back to previous …"
      ]
     },
     "metadata": {},
     "output_type": "display_data"
    }
   ],
   "source": [
    "hist_array = np.array(history)\n",
    "fig = plt.figure(figsize=(8, 8))\n",
    "ax = fig.add_subplot(2, 1, 1, projection=\"3d\")\n",
    "ax.scatter(hist_array[:, 0], hist_array[:, 1], np.arange(len(history)), c=r_history, cmap=\"RdBu\")\n",
    "coord_range = [-6, 6]\n",
    "ax.set_xlim(coord_range)\n",
    "ax.set_ylim(coord_range)\n",
    "\n",
    "ax2 = fig.add_subplot(2, 1, 2, projection=\"3d\")\n",
    "hist_embedded = np.array([StereographicChart(r).coords_to_point(jnp.array(x)).coords for x, r in zip(history, r_history)])\n",
    "ax2.scatter(hist_embedded[:, 0], hist_embedded[:, 1], hist_embedded[:, 2], c=np.arange(len(history)), cmap=\"RdBu\")\n",
    "ax2.set_xlim(coord_range)\n",
    "ax2.set_ylim(coord_range)\n",
    "ax2.set_zlim(coord_range)\n",
    "\n",
    "plt.show()"
   ]
  },
  {
   "cell_type": "code",
   "execution_count": null,
   "metadata": {},
   "outputs": [],
   "source": []
  }
 ],
 "metadata": {
  "kernelspec": {
   "display_name": "Conda (manifold)",
   "language": "python",
   "name": "conda-manifold"
  },
  "language_info": {
   "codemirror_mode": {
    "name": "ipython",
    "version": 3
   },
   "file_extension": ".py",
   "mimetype": "text/x-python",
   "name": "python",
   "nbconvert_exporter": "python",
   "pygments_lexer": "ipython3",
   "version": "3.9.2"
  }
 },
 "nbformat": 4,
 "nbformat_minor": 4
}
