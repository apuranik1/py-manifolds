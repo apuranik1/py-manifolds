{
 "cells": [
  {
   "cell_type": "markdown",
   "metadata": {},
   "source": [
    "# Geodesic Solver"
   ]
  },
  {
   "cell_type": "code",
   "execution_count": 1,
   "metadata": {},
   "outputs": [],
   "source": [
    "import sys\n",
    "sys.path.append(\"/home/alok/Programming/py-manifolds\")"
   ]
  },
  {
   "cell_type": "code",
   "execution_count": 2,
   "metadata": {},
   "outputs": [],
   "source": [
    "import jax\n",
    "import jax.numpy as jnp\n",
    "\n",
    "from manifolds.manifold import ChartPoint, Cotangent, ContravariantTensor, CovariantTensor, Tangent, Tensor\n",
    "from manifolds.sphere import Sphere, StereographicChart, SpherePoint\n",
    "from manifolds.riemannian import levi_civita"
   ]
  },
  {
   "cell_type": "code",
   "execution_count": 3,
   "metadata": {},
   "outputs": [
    {
     "name": "stderr",
     "output_type": "stream",
     "text": [
      "WARNING:absl:No GPU/TPU found, falling back to CPU. (Set TF_CPP_MIN_LOG_LEVEL=0 and rerun for more info.)\n"
     ]
    }
   ],
   "source": [
    "sphere = Sphere(5.)"
   ]
  },
  {
   "cell_type": "markdown",
   "metadata": {},
   "source": [
    "The goal here is to implement the exponential map with a simple ODE solver.\n",
    "The exponential map is defined by a second-order linear ODE, which can be converted to a system of first-order ODEs with parameters x and v.\n",
    "\n",
    "$$\\dot x(t) = v(t)$$\n",
    "\n",
    "$$ \\dot v^k(t) = -v^i(t) v^j(t)\\Gamma^k_{ij}(x(t)) $$\n",
    "\n",
    "What does taking a step look like?\n",
    "\n",
    "- You are at some point $x_0$ with velocity $v_0$\n",
    "- If you are in explicit mode, then you adjust the coordinates of $x$ by $dt \\cdot v$, and you adjust the coordinates of $v$ by evaluating the Christoffel symbol product.\n",
    "- Explicit mode is equivalent to approximating x' and v' with forward differences in time.\n",
    "- If you are in implicit mode, then you approximate x' and v' with backward differences, and then you cry because you need to solve a nonlinear system involving a black box.\n",
    "- So I guess we're sticking to explicit mode."
   ]
  },
  {
   "cell_type": "code",
   "execution_count": 27,
   "metadata": {},
   "outputs": [
    {
     "name": "stdout",
     "output_type": "stream",
     "text": [
      "[4.868924  1.5079792] [0.5189059 2.1239953]\n",
      "25.980423\n"
     ]
    }
   ],
   "source": [
    "def step(manifold, x, v, dt):\n",
    "    \"\"\"Given a manifold, a point x, a tangent v, and a step size dt, compute the next values of x and v.\n",
    "    \n",
    "    Args:\n",
    "      manifold: the manifold\n",
    "      x: a point in the manifold\n",
    "      v: a tangent vector anchored at x in any chart\n",
    "      dt: time step size\n",
    "    \"\"\"\n",
    "    chart_x = x\n",
    "    chart_v = v\n",
    "    # I think the nonlinearity is causing issues here\n",
    "    chart_x_new = ChartPoint(chart_x.coords + dt * chart_v.v_coords, chart_x.chart)\n",
    "    x_new = chart_x_new.to_point()\n",
    "    christoffel = levi_civita(manifold, chart_x)\n",
    "    v_derivative = -christoffel.coords @ chart_v.v_coords @ chart_v.v_coords\n",
    "    chart_v_new = Tangent(chart_x_new, chart_v.v_coords + dt * v_derivative)\n",
    "    return chart_x_new, chart_v_new\n",
    "    \n",
    "# intentionally using equator because chart doesn't matter there\n",
    "@jax.jit\n",
    "def exp_map_step(initial_x, initial_v, signed_radius):\n",
    "    x = ChartPoint(initial_x, StereographicChart(signed_radius))\n",
    "    # chart = sphere.preferred_chart(x_0)\n",
    "    v = Tangent(x, initial_v)\n",
    "    x_new, v_new = step(sphere, x, v, 0.001)\n",
    "    return x_new.coords, v_new.v_coords\n",
    "\n",
    "signed_r = jnp.array(-5.)\n",
    "x_coords = jnp.array([4., 0.])\n",
    "v_coords = jnp.array([1., 1.])\n",
    "for i in range(1000):\n",
    "    x_coords, v_coords = exp_map_step(x_coords, v_coords, signed_r)\n",
    "#     print(\"iteration done\")\n",
    "    \n",
    "print(x_coords, v_coords)\n",
    "print((x_coords ** 2).sum())"
   ]
  },
  {
   "cell_type": "code",
   "execution_count": 28,
   "metadata": {},
   "outputs": [
    {
     "name": "stdout",
     "output_type": "stream",
     "text": [
      "27.126127\n",
      "28.258762\n",
      "29.357578\n",
      "30.397831\n",
      "31.351269\n",
      "32.18747\n",
      "32.875786\n",
      "33.387905\n",
      "33.700836\n",
      "33.799667\n",
      "33.679474\n",
      "33.346\n",
      "32.81499\n",
      "32.10996\n",
      "31.259583\n",
      "30.294683\n",
      "29.245611\n",
      "28.140423\n",
      "27.003582\n",
      "25.85555\n",
      "24.712729\n",
      "23.587769\n",
      "22.490026\n",
      "21.426132\n",
      "20.400467\n",
      "19.415747\n",
      "18.473257\n",
      "17.57334\n",
      "16.715597\n",
      "15.899117\n",
      "15.12261\n",
      "14.384589\n",
      "13.683374\n",
      "13.017282\n",
      "12.384577\n",
      "11.783552\n",
      "11.212547\n",
      "10.669947\n",
      "10.154217\n",
      "9.663896\n",
      "9.197599\n",
      "8.754029\n",
      "8.331957\n",
      "7.9302335\n",
      "7.5477886\n",
      "7.183611\n",
      "6.8367634\n",
      "6.506369\n",
      "6.1916103\n",
      "5.8917227\n",
      "5.6059914\n",
      "5.3337517\n",
      "5.0743837\n",
      "4.8273096\n",
      "4.5919886\n",
      "4.3679194\n",
      "4.1546297\n",
      "3.9516883\n",
      "3.7586732\n",
      "3.5752106\n",
      "3.4009442\n",
      "3.2355418\n",
      "3.078693\n",
      "2.930109\n",
      "2.7895212\n",
      "2.65668\n",
      "2.5313525\n",
      "2.4133205\n",
      "2.3023834\n",
      "2.1983542\n",
      "2.1010618\n",
      "2.010344\n",
      "1.9260553\n",
      "1.8480599\n",
      "1.7762339\n",
      "1.7104641\n",
      "1.6506476\n",
      "1.596692\n",
      "1.5485139\n",
      "1.5060406\n",
      "1.469206\n",
      "1.4379567\n",
      "1.4122441\n",
      "1.3920285\n",
      "1.3772821\n",
      "1.367982\n",
      "1.3641144\n",
      "1.3656731\n",
      "1.3726602\n",
      "1.3850863\n",
      "1.4029697\n",
      "1.4263374\n",
      "1.4552238\n",
      "1.489673\n",
      "1.5297358\n",
      "1.5754738\n",
      "1.6269557\n",
      "1.6842613\n",
      "1.7474778\n",
      "1.8167036\n",
      "[-1.042496  -0.8543452] [ 0.13653591 -0.58950406]\n"
     ]
    }
   ],
   "source": [
    "for i in range(100):\n",
    "    for j in range(100):\n",
    "        x_coords, v_coords = exp_map_step(x_coords, v_coords, signed_r)\n",
    "    print((x_coords ** 2).sum())\n",
    "    \n",
    "print(x_coords, v_coords)"
   ]
  },
  {
   "cell_type": "code",
   "execution_count": null,
   "metadata": {},
   "outputs": [],
   "source": []
  }
 ],
 "metadata": {
  "kernelspec": {
   "display_name": "Conda (manifold)",
   "language": "python",
   "name": "conda-manifold"
  },
  "language_info": {
   "codemirror_mode": {
    "name": "ipython",
    "version": 3
   },
   "file_extension": ".py",
   "mimetype": "text/x-python",
   "name": "python",
   "nbconvert_exporter": "python",
   "pygments_lexer": "ipython3",
   "version": "3.9.2"
  }
 },
 "nbformat": 4,
 "nbformat_minor": 4
}
